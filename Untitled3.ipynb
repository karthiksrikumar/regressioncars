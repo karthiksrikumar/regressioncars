{
 "cells": [
  {
   "cell_type": "code",
   "execution_count": 119,
   "id": "6f6c3ecd-61fb-46bf-a19f-41e6ebf4ba7a",
   "metadata": {},
   "outputs": [],
   "source": [
    "import pandas as pd\n",
    "\n",
    "data = pd.read_csv(r\"C:\\Users\\karth_f229yzr\\Downloads\\car_purchasing.csv\", encoding='ISO-8859-1') #Google: ISO-8859-1, also known as Latin-1, is an encoding that supports Western European languages. If your CSV file contains characters specific to these languages, ISO-8859-1 ensures these characters are read correctly."
   ]
  },
  {
   "cell_type": "code",
   "execution_count": 120,
   "id": "e27e3ea4-33dc-4692-a35d-31f2afd5e9a6",
   "metadata": {},
   "outputs": [
    {
     "data": {
      "text/html": [
       "<div>\n",
       "<style scoped>\n",
       "    .dataframe tbody tr th:only-of-type {\n",
       "        vertical-align: middle;\n",
       "    }\n",
       "\n",
       "    .dataframe tbody tr th {\n",
       "        vertical-align: top;\n",
       "    }\n",
       "\n",
       "    .dataframe thead th {\n",
       "        text-align: right;\n",
       "    }\n",
       "</style>\n",
       "<table border=\"1\" class=\"dataframe\">\n",
       "  <thead>\n",
       "    <tr style=\"text-align: right;\">\n",
       "      <th></th>\n",
       "      <th>customer name</th>\n",
       "      <th>customer e-mail</th>\n",
       "      <th>country</th>\n",
       "      <th>gender</th>\n",
       "      <th>age</th>\n",
       "      <th>annual Salary</th>\n",
       "      <th>credit card debt</th>\n",
       "      <th>net worth</th>\n",
       "      <th>car purchase amount</th>\n",
       "    </tr>\n",
       "  </thead>\n",
       "  <tbody>\n",
       "    <tr>\n",
       "      <th>0</th>\n",
       "      <td>Martina Avila</td>\n",
       "      <td>cubilia.Curae.Phasellus@quisaccumsanconvallis.edu</td>\n",
       "      <td>Bulgaria</td>\n",
       "      <td>0</td>\n",
       "      <td>41.851720</td>\n",
       "      <td>62812.09301</td>\n",
       "      <td>11609.380910</td>\n",
       "      <td>238961.2505</td>\n",
       "      <td>35321.45877</td>\n",
       "    </tr>\n",
       "    <tr>\n",
       "      <th>1</th>\n",
       "      <td>Harlan Barnes</td>\n",
       "      <td>eu.dolor@diam.co.uk</td>\n",
       "      <td>Belize</td>\n",
       "      <td>0</td>\n",
       "      <td>40.870623</td>\n",
       "      <td>66646.89292</td>\n",
       "      <td>9572.957136</td>\n",
       "      <td>530973.9078</td>\n",
       "      <td>45115.52566</td>\n",
       "    </tr>\n",
       "    <tr>\n",
       "      <th>2</th>\n",
       "      <td>Naomi Rodriquez</td>\n",
       "      <td>vulputate.mauris.sagittis@ametconsectetueradip...</td>\n",
       "      <td>Algeria</td>\n",
       "      <td>1</td>\n",
       "      <td>43.152897</td>\n",
       "      <td>53798.55112</td>\n",
       "      <td>11160.355060</td>\n",
       "      <td>638467.1773</td>\n",
       "      <td>42925.70921</td>\n",
       "    </tr>\n",
       "    <tr>\n",
       "      <th>3</th>\n",
       "      <td>Jade Cunningham</td>\n",
       "      <td>malesuada@dignissim.com</td>\n",
       "      <td>Cook Islands</td>\n",
       "      <td>1</td>\n",
       "      <td>58.271369</td>\n",
       "      <td>79370.03798</td>\n",
       "      <td>14426.164850</td>\n",
       "      <td>548599.0524</td>\n",
       "      <td>67422.36313</td>\n",
       "    </tr>\n",
       "    <tr>\n",
       "      <th>4</th>\n",
       "      <td>Cedric Leach</td>\n",
       "      <td>felis.ullamcorper.viverra@egetmollislectus.net</td>\n",
       "      <td>Brazil</td>\n",
       "      <td>1</td>\n",
       "      <td>57.313749</td>\n",
       "      <td>59729.15130</td>\n",
       "      <td>5358.712177</td>\n",
       "      <td>560304.0671</td>\n",
       "      <td>55915.46248</td>\n",
       "    </tr>\n",
       "  </tbody>\n",
       "</table>\n",
       "</div>"
      ],
      "text/plain": [
       "     customer name                                    customer e-mail  \\\n",
       "0    Martina Avila  cubilia.Curae.Phasellus@quisaccumsanconvallis.edu   \n",
       "1    Harlan Barnes                                eu.dolor@diam.co.uk   \n",
       "2  Naomi Rodriquez  vulputate.mauris.sagittis@ametconsectetueradip...   \n",
       "3  Jade Cunningham                            malesuada@dignissim.com   \n",
       "4     Cedric Leach     felis.ullamcorper.viverra@egetmollislectus.net   \n",
       "\n",
       "        country  gender        age  annual Salary  credit card debt  \\\n",
       "0      Bulgaria       0  41.851720    62812.09301      11609.380910   \n",
       "1        Belize       0  40.870623    66646.89292       9572.957136   \n",
       "2       Algeria       1  43.152897    53798.55112      11160.355060   \n",
       "3  Cook Islands       1  58.271369    79370.03798      14426.164850   \n",
       "4        Brazil       1  57.313749    59729.15130       5358.712177   \n",
       "\n",
       "     net worth  car purchase amount  \n",
       "0  238961.2505          35321.45877  \n",
       "1  530973.9078          45115.52566  \n",
       "2  638467.1773          42925.70921  \n",
       "3  548599.0524          67422.36313  \n",
       "4  560304.0671          55915.46248  "
      ]
     },
     "execution_count": 120,
     "metadata": {},
     "output_type": "execute_result"
    }
   ],
   "source": [
    "data.head()  # Let's peek at the first few rows of our data."
   ]
  },
  {
   "cell_type": "code",
   "execution_count": 121,
   "id": "1d6a99db-c598-4308-a49e-f7b44d9e0785",
   "metadata": {},
   "outputs": [
    {
     "name": "stdout",
     "output_type": "stream",
     "text": [
      "customer name           object\n",
      "customer e-mail         object\n",
      "country                 object\n",
      "gender                   int64\n",
      "age                    float64\n",
      "annual Salary          float64\n",
      "credit card debt       float64\n",
      "net worth              float64\n",
      "car purchase amount    float64\n",
      "dtype: object\n"
     ]
    }
   ],
   "source": [
    "print(data.dtypes)\n",
    "# Quick peek at the first few rows of our car data."
   ]
  },
  {
   "cell_type": "code",
   "execution_count": 122,
   "id": "a96da50e-f07e-4a16-8889-d5ca7427c1a2",
   "metadata": {},
   "outputs": [],
   "source": [
    "data = data.select_dtypes(exclude=['object'])  # Keep only numerical columns, bye-bye text"
   ]
  },
  {
   "cell_type": "code",
   "execution_count": 123,
   "id": "4530752c-f282-44a5-938e-b49286657f65",
   "metadata": {},
   "outputs": [],
   "source": [
    "data.columns = ['gen', 'age', 'sal', 'debt', 'net_worth', 'car_amount']  # Renaming columns to something shorter."
   ]
  },
  {
   "cell_type": "code",
   "execution_count": 124,
   "id": "0ed19575-8599-442b-85e7-13a5806e1b33",
   "metadata": {},
   "outputs": [],
   "source": [
    "import numpy as np #is it Num-Pie or NumPee"
   ]
  },
  {
   "cell_type": "code",
   "execution_count": 125,
   "id": "2dcb7345-68e4-484f-9d41-cc9a423e4bb9",
   "metadata": {},
   "outputs": [
    {
     "data": {
      "text/html": [
       "<div>\n",
       "<style scoped>\n",
       "    .dataframe tbody tr th:only-of-type {\n",
       "        vertical-align: middle;\n",
       "    }\n",
       "\n",
       "    .dataframe tbody tr th {\n",
       "        vertical-align: top;\n",
       "    }\n",
       "\n",
       "    .dataframe thead th {\n",
       "        text-align: right;\n",
       "    }\n",
       "</style>\n",
       "<table border=\"1\" class=\"dataframe\">\n",
       "  <thead>\n",
       "    <tr style=\"text-align: right;\">\n",
       "      <th></th>\n",
       "      <th>gen</th>\n",
       "      <th>age</th>\n",
       "      <th>sal</th>\n",
       "      <th>debt</th>\n",
       "      <th>net_worth</th>\n",
       "      <th>car_amount</th>\n",
       "    </tr>\n",
       "  </thead>\n",
       "  <tbody>\n",
       "    <tr>\n",
       "      <th>0</th>\n",
       "      <td>0</td>\n",
       "      <td>41.851720</td>\n",
       "      <td>62812.09301</td>\n",
       "      <td>11609.380910</td>\n",
       "      <td>238961.2505</td>\n",
       "      <td>35321.45877</td>\n",
       "    </tr>\n",
       "    <tr>\n",
       "      <th>1</th>\n",
       "      <td>0</td>\n",
       "      <td>40.870623</td>\n",
       "      <td>66646.89292</td>\n",
       "      <td>9572.957136</td>\n",
       "      <td>530973.9078</td>\n",
       "      <td>45115.52566</td>\n",
       "    </tr>\n",
       "    <tr>\n",
       "      <th>2</th>\n",
       "      <td>1</td>\n",
       "      <td>43.152897</td>\n",
       "      <td>53798.55112</td>\n",
       "      <td>11160.355060</td>\n",
       "      <td>638467.1773</td>\n",
       "      <td>42925.70921</td>\n",
       "    </tr>\n",
       "    <tr>\n",
       "      <th>3</th>\n",
       "      <td>1</td>\n",
       "      <td>58.271369</td>\n",
       "      <td>79370.03798</td>\n",
       "      <td>14426.164850</td>\n",
       "      <td>548599.0524</td>\n",
       "      <td>67422.36313</td>\n",
       "    </tr>\n",
       "    <tr>\n",
       "      <th>4</th>\n",
       "      <td>1</td>\n",
       "      <td>57.313749</td>\n",
       "      <td>59729.15130</td>\n",
       "      <td>5358.712177</td>\n",
       "      <td>560304.0671</td>\n",
       "      <td>55915.46248</td>\n",
       "    </tr>\n",
       "    <tr>\n",
       "      <th>...</th>\n",
       "      <td>...</td>\n",
       "      <td>...</td>\n",
       "      <td>...</td>\n",
       "      <td>...</td>\n",
       "      <td>...</td>\n",
       "      <td>...</td>\n",
       "    </tr>\n",
       "    <tr>\n",
       "      <th>495</th>\n",
       "      <td>0</td>\n",
       "      <td>41.462515</td>\n",
       "      <td>71942.40291</td>\n",
       "      <td>6995.902524</td>\n",
       "      <td>541670.1016</td>\n",
       "      <td>48901.44342</td>\n",
       "    </tr>\n",
       "    <tr>\n",
       "      <th>496</th>\n",
       "      <td>1</td>\n",
       "      <td>37.642000</td>\n",
       "      <td>56039.49793</td>\n",
       "      <td>12301.456790</td>\n",
       "      <td>360419.0988</td>\n",
       "      <td>31491.41457</td>\n",
       "    </tr>\n",
       "    <tr>\n",
       "      <th>497</th>\n",
       "      <td>1</td>\n",
       "      <td>53.943497</td>\n",
       "      <td>68888.77805</td>\n",
       "      <td>10611.606860</td>\n",
       "      <td>764531.3203</td>\n",
       "      <td>64147.28888</td>\n",
       "    </tr>\n",
       "    <tr>\n",
       "      <th>498</th>\n",
       "      <td>1</td>\n",
       "      <td>59.160509</td>\n",
       "      <td>49811.99062</td>\n",
       "      <td>14013.034510</td>\n",
       "      <td>337826.6382</td>\n",
       "      <td>45442.15353</td>\n",
       "    </tr>\n",
       "    <tr>\n",
       "      <th>499</th>\n",
       "      <td>1</td>\n",
       "      <td>46.731152</td>\n",
       "      <td>61370.67766</td>\n",
       "      <td>9391.341628</td>\n",
       "      <td>462946.4924</td>\n",
       "      <td>45107.22566</td>\n",
       "    </tr>\n",
       "  </tbody>\n",
       "</table>\n",
       "<p>500 rows × 6 columns</p>\n",
       "</div>"
      ],
      "text/plain": [
       "     gen        age          sal          debt    net_worth   car_amount\n",
       "0      0  41.851720  62812.09301  11609.380910  238961.2505  35321.45877\n",
       "1      0  40.870623  66646.89292   9572.957136  530973.9078  45115.52566\n",
       "2      1  43.152897  53798.55112  11160.355060  638467.1773  42925.70921\n",
       "3      1  58.271369  79370.03798  14426.164850  548599.0524  67422.36313\n",
       "4      1  57.313749  59729.15130   5358.712177  560304.0671  55915.46248\n",
       "..   ...        ...          ...           ...          ...          ...\n",
       "495    0  41.462515  71942.40291   6995.902524  541670.1016  48901.44342\n",
       "496    1  37.642000  56039.49793  12301.456790  360419.0988  31491.41457\n",
       "497    1  53.943497  68888.77805  10611.606860  764531.3203  64147.28888\n",
       "498    1  59.160509  49811.99062  14013.034510  337826.6382  45442.15353\n",
       "499    1  46.731152  61370.67766   9391.341628  462946.4924  45107.22566\n",
       "\n",
       "[500 rows x 6 columns]"
      ]
     },
     "execution_count": 125,
     "metadata": {},
     "output_type": "execute_result"
    }
   ],
   "source": [
    "data"
   ]
  },
  {
   "cell_type": "code",
   "execution_count": 126,
   "id": "08f6dafe-b5be-405f-aa1f-9ad68ca50d01",
   "metadata": {},
   "outputs": [],
   "source": [
    "data.columns = ['gen', 'age', 'sal', 'debt', 'net_worth', 'car_amount']  # Renaming columns to something shorter."
   ]
  },
  {
   "cell_type": "code",
   "execution_count": 127,
   "id": "2812a2e4-eb08-4ecf-bc79-4f471c844f5e",
   "metadata": {},
   "outputs": [
    {
     "data": {
      "text/html": [
       "<div>\n",
       "<style scoped>\n",
       "    .dataframe tbody tr th:only-of-type {\n",
       "        vertical-align: middle;\n",
       "    }\n",
       "\n",
       "    .dataframe tbody tr th {\n",
       "        vertical-align: top;\n",
       "    }\n",
       "\n",
       "    .dataframe thead th {\n",
       "        text-align: right;\n",
       "    }\n",
       "</style>\n",
       "<table border=\"1\" class=\"dataframe\">\n",
       "  <thead>\n",
       "    <tr style=\"text-align: right;\">\n",
       "      <th></th>\n",
       "      <th>gen</th>\n",
       "      <th>age</th>\n",
       "      <th>sal</th>\n",
       "      <th>debt</th>\n",
       "      <th>net_worth</th>\n",
       "      <th>car_amount</th>\n",
       "    </tr>\n",
       "  </thead>\n",
       "  <tbody>\n",
       "    <tr>\n",
       "      <th>0</th>\n",
       "      <td>0</td>\n",
       "      <td>41.851720</td>\n",
       "      <td>62812.09301</td>\n",
       "      <td>11609.380910</td>\n",
       "      <td>238961.2505</td>\n",
       "      <td>35321.45877</td>\n",
       "    </tr>\n",
       "    <tr>\n",
       "      <th>1</th>\n",
       "      <td>0</td>\n",
       "      <td>40.870623</td>\n",
       "      <td>66646.89292</td>\n",
       "      <td>9572.957136</td>\n",
       "      <td>530973.9078</td>\n",
       "      <td>45115.52566</td>\n",
       "    </tr>\n",
       "    <tr>\n",
       "      <th>2</th>\n",
       "      <td>1</td>\n",
       "      <td>43.152897</td>\n",
       "      <td>53798.55112</td>\n",
       "      <td>11160.355060</td>\n",
       "      <td>638467.1773</td>\n",
       "      <td>42925.70921</td>\n",
       "    </tr>\n",
       "    <tr>\n",
       "      <th>3</th>\n",
       "      <td>1</td>\n",
       "      <td>58.271369</td>\n",
       "      <td>79370.03798</td>\n",
       "      <td>14426.164850</td>\n",
       "      <td>548599.0524</td>\n",
       "      <td>67422.36313</td>\n",
       "    </tr>\n",
       "    <tr>\n",
       "      <th>4</th>\n",
       "      <td>1</td>\n",
       "      <td>57.313749</td>\n",
       "      <td>59729.15130</td>\n",
       "      <td>5358.712177</td>\n",
       "      <td>560304.0671</td>\n",
       "      <td>55915.46248</td>\n",
       "    </tr>\n",
       "    <tr>\n",
       "      <th>...</th>\n",
       "      <td>...</td>\n",
       "      <td>...</td>\n",
       "      <td>...</td>\n",
       "      <td>...</td>\n",
       "      <td>...</td>\n",
       "      <td>...</td>\n",
       "    </tr>\n",
       "    <tr>\n",
       "      <th>495</th>\n",
       "      <td>0</td>\n",
       "      <td>41.462515</td>\n",
       "      <td>71942.40291</td>\n",
       "      <td>6995.902524</td>\n",
       "      <td>541670.1016</td>\n",
       "      <td>48901.44342</td>\n",
       "    </tr>\n",
       "    <tr>\n",
       "      <th>496</th>\n",
       "      <td>1</td>\n",
       "      <td>37.642000</td>\n",
       "      <td>56039.49793</td>\n",
       "      <td>12301.456790</td>\n",
       "      <td>360419.0988</td>\n",
       "      <td>31491.41457</td>\n",
       "    </tr>\n",
       "    <tr>\n",
       "      <th>497</th>\n",
       "      <td>1</td>\n",
       "      <td>53.943497</td>\n",
       "      <td>68888.77805</td>\n",
       "      <td>10611.606860</td>\n",
       "      <td>764531.3203</td>\n",
       "      <td>64147.28888</td>\n",
       "    </tr>\n",
       "    <tr>\n",
       "      <th>498</th>\n",
       "      <td>1</td>\n",
       "      <td>59.160509</td>\n",
       "      <td>49811.99062</td>\n",
       "      <td>14013.034510</td>\n",
       "      <td>337826.6382</td>\n",
       "      <td>45442.15353</td>\n",
       "    </tr>\n",
       "    <tr>\n",
       "      <th>499</th>\n",
       "      <td>1</td>\n",
       "      <td>46.731152</td>\n",
       "      <td>61370.67766</td>\n",
       "      <td>9391.341628</td>\n",
       "      <td>462946.4924</td>\n",
       "      <td>45107.22566</td>\n",
       "    </tr>\n",
       "  </tbody>\n",
       "</table>\n",
       "<p>500 rows × 6 columns</p>\n",
       "</div>"
      ],
      "text/plain": [
       "     gen        age          sal          debt    net_worth   car_amount\n",
       "0      0  41.851720  62812.09301  11609.380910  238961.2505  35321.45877\n",
       "1      0  40.870623  66646.89292   9572.957136  530973.9078  45115.52566\n",
       "2      1  43.152897  53798.55112  11160.355060  638467.1773  42925.70921\n",
       "3      1  58.271369  79370.03798  14426.164850  548599.0524  67422.36313\n",
       "4      1  57.313749  59729.15130   5358.712177  560304.0671  55915.46248\n",
       "..   ...        ...          ...           ...          ...          ...\n",
       "495    0  41.462515  71942.40291   6995.902524  541670.1016  48901.44342\n",
       "496    1  37.642000  56039.49793  12301.456790  360419.0988  31491.41457\n",
       "497    1  53.943497  68888.77805  10611.606860  764531.3203  64147.28888\n",
       "498    1  59.160509  49811.99062  14013.034510  337826.6382  45442.15353\n",
       "499    1  46.731152  61370.67766   9391.341628  462946.4924  45107.22566\n",
       "\n",
       "[500 rows x 6 columns]"
      ]
     },
     "execution_count": 127,
     "metadata": {},
     "output_type": "execute_result"
    }
   ],
   "source": [
    "data"
   ]
  },
  {
   "cell_type": "code",
   "execution_count": 169,
   "id": "92d53cb2-7233-49f7-8ec2-0ca7cb137639",
   "metadata": {},
   "outputs": [
    {
     "data": {
      "image/png": "[encoded data removed]",
      "text/plain": [
       "<Figure size 500x400 with 2 Axes>"
      ]
     },
     "metadata": {},
     "output_type": "display_data"
    }
   ],
   "source": [
    "import seaborn as sns  # For fancy plots\n",
    "import matplotlib.pyplot as plt  # To show our plots\n",
    "\n",
    "custom_data = data[['gen', 'age', 'sal', 'negative_debt', 'net_worth', 'car_amount']]  # Grab the columns we're interested in\n",
    "\n",
    "# Compute the correlation matrix\n",
    "correlation_matrix = custom_data.corr()  # Find out how our features are related\n",
    "\n",
    "plt.figure(figsize=(5, 4))  # Set up the plot size\n",
    "sns.heatmap(correlation_matrix, annot=True, cmap='coolwarm', fmt='.2f')  # Make a heatmap of the correlations\n",
    "plt.title('Correlation Matrix')  # Title for our plot\n",
    "plt.show()  # Display the plot\n"
   ]
  },
  {
   "cell_type": "code",
   "execution_count": 165,
   "id": "9312c2a0-7901-4963-adc9-83fb4387fd3c",
   "metadata": {},
   "outputs": [],
   "source": [
    "data['negative_debt'] = data['debt'] * -1  # Creating a new column with debt values multiplied by -1"
   ]
  },
  {
   "cell_type": "code",
   "execution_count": 130,
   "id": "b1ad7429-3d59-41ce-be07-3a045b2d4cbf",
   "metadata": {},
   "outputs": [],
   "source": [
    "from sklearn.preprocessing import MinMaxScaler\n",
    "scaler = MinMaxScaler()\n",
    "data['debt'] = scaler.fit_transform(data[['debt']])\n",
    "data['debt'] = 1 - data['debt']  # Invert the scale to make lower values higher\n",
    "\n",
    "#note THIS CODE DOES NOT WORK, like at all I wanted to make higher debt worse not negative, maybe I multiply by -1 idk"
   ]
  },
  {
   "cell_type": "code",
   "execution_count": 131,
   "id": "d7eccfda-903f-4c46-a2af-a99eecde9ba6",
   "metadata": {},
   "outputs": [],
   "source": [
    "selected_features = data[['age', 'sal', 'net_worth']]  # Picking out the columns we want to use for analysis.\n"
   ]
  },
  {
   "cell_type": "code",
   "execution_count": 132,
   "id": "b218fd7b-2eee-4ff3-9a4d-acea5fc30218",
   "metadata": {},
   "outputs": [
    {
     "data": {
      "text/html": [
       "<div>\n",
       "<style scoped>\n",
       "    .dataframe tbody tr th:only-of-type {\n",
       "        vertical-align: middle;\n",
       "    }\n",
       "\n",
       "    .dataframe tbody tr th {\n",
       "        vertical-align: top;\n",
       "    }\n",
       "\n",
       "    .dataframe thead th {\n",
       "        text-align: right;\n",
       "    }\n",
       "</style>\n",
       "<table border=\"1\" class=\"dataframe\">\n",
       "  <thead>\n",
       "    <tr style=\"text-align: right;\">\n",
       "      <th></th>\n",
       "      <th>age</th>\n",
       "      <th>sal</th>\n",
       "      <th>net_worth</th>\n",
       "    </tr>\n",
       "  </thead>\n",
       "  <tbody>\n",
       "    <tr>\n",
       "      <th>0</th>\n",
       "      <td>41.851720</td>\n",
       "      <td>62812.09301</td>\n",
       "      <td>238961.2505</td>\n",
       "    </tr>\n",
       "    <tr>\n",
       "      <th>1</th>\n",
       "      <td>40.870623</td>\n",
       "      <td>66646.89292</td>\n",
       "      <td>530973.9078</td>\n",
       "    </tr>\n",
       "    <tr>\n",
       "      <th>2</th>\n",
       "      <td>43.152897</td>\n",
       "      <td>53798.55112</td>\n",
       "      <td>638467.1773</td>\n",
       "    </tr>\n",
       "    <tr>\n",
       "      <th>3</th>\n",
       "      <td>58.271369</td>\n",
       "      <td>79370.03798</td>\n",
       "      <td>548599.0524</td>\n",
       "    </tr>\n",
       "    <tr>\n",
       "      <th>4</th>\n",
       "      <td>57.313749</td>\n",
       "      <td>59729.15130</td>\n",
       "      <td>560304.0671</td>\n",
       "    </tr>\n",
       "    <tr>\n",
       "      <th>...</th>\n",
       "      <td>...</td>\n",
       "      <td>...</td>\n",
       "      <td>...</td>\n",
       "    </tr>\n",
       "    <tr>\n",
       "      <th>495</th>\n",
       "      <td>41.462515</td>\n",
       "      <td>71942.40291</td>\n",
       "      <td>541670.1016</td>\n",
       "    </tr>\n",
       "    <tr>\n",
       "      <th>496</th>\n",
       "      <td>37.642000</td>\n",
       "      <td>56039.49793</td>\n",
       "      <td>360419.0988</td>\n",
       "    </tr>\n",
       "    <tr>\n",
       "      <th>497</th>\n",
       "      <td>53.943497</td>\n",
       "      <td>68888.77805</td>\n",
       "      <td>764531.3203</td>\n",
       "    </tr>\n",
       "    <tr>\n",
       "      <th>498</th>\n",
       "      <td>59.160509</td>\n",
       "      <td>49811.99062</td>\n",
       "      <td>337826.6382</td>\n",
       "    </tr>\n",
       "    <tr>\n",
       "      <th>499</th>\n",
       "      <td>46.731152</td>\n",
       "      <td>61370.67766</td>\n",
       "      <td>462946.4924</td>\n",
       "    </tr>\n",
       "  </tbody>\n",
       "</table>\n",
       "<p>500 rows × 3 columns</p>\n",
       "</div>"
      ],
      "text/plain": [
       "           age          sal    net_worth\n",
       "0    41.851720  62812.09301  238961.2505\n",
       "1    40.870623  66646.89292  530973.9078\n",
       "2    43.152897  53798.55112  638467.1773\n",
       "3    58.271369  79370.03798  548599.0524\n",
       "4    57.313749  59729.15130  560304.0671\n",
       "..         ...          ...          ...\n",
       "495  41.462515  71942.40291  541670.1016\n",
       "496  37.642000  56039.49793  360419.0988\n",
       "497  53.943497  68888.77805  764531.3203\n",
       "498  59.160509  49811.99062  337826.6382\n",
       "499  46.731152  61370.67766  462946.4924\n",
       "\n",
       "[500 rows x 3 columns]"
      ]
     },
     "execution_count": 132,
     "metadata": {},
     "output_type": "execute_result"
    }
   ],
   "source": [
    "selected_features"
   ]
  },
  {
   "cell_type": "code",
   "execution_count": 171,
   "id": "5686a074-381d-49b7-bf1f-7726621dcf38",
   "metadata": {},
   "outputs": [
    {
     "data": {
      "image/png": "[encoded data removed]",
      "text/plain": [
       "<Figure size 1000x600 with 1 Axes>"
      ]
     },
     "metadata": {},
     "output_type": "display_data"
    },
    {
     "data": {
      "image/png": "[encoded data removed]",
      "text/plain": [
       "<Figure size 1000x600 with 1 Axes>"
      ]
     },
     "metadata": {},
     "output_type": "display_data"
    },
    {
     "data": {
      "image/png": "[encoded data removed]",
      "text/plain": [
       "<Figure size 1000x600 with 1 Axes>"
      ]
     },
     "metadata": {},
     "output_type": "display_data"
    }
   ],
   "source": [
    "import pandas as pd\n",
    "import numpy as np\n",
    "import matplotlib.pyplot as plt\n",
    "\n",
    "df = pd.concat([selected_features, target], axis=1)\n",
    "\n",
    "def plot_binned_histogram(x, y, xlabel, ylabel, title):\n",
    "    # Create bins\n",
    "    bins = np.linspace(x.min(), x.max(), 20)\n",
    "    \n",
    "    # Bin the data\n",
    "    digitized = np.digitize(x, bins)\n",
    "    \n",
    "    # Compute the mean of y values for each bin\n",
    "    binned_means = [y[digitized == i].mean() for i in range(1, len(bins))]\n",
    "    binned_counts = [len(y[digitized == i]) for i in range(1, len(bins))]\n",
    "    \n",
    "    # Plot histogram\n",
    "    plt.figure(figsize=(10, 6))\n",
    "    plt.bar(bins[:-1], binned_means, width=np.diff(bins), align='edge', alpha=0.7, edgecolor='w')\n",
    "    plt.xlabel(xlabel)\n",
    "    plt.ylabel(ylabel)\n",
    "    plt.title(title)\n",
    "    plt.grid(True)\n",
    "    plt.show()\n",
    "\n",
    "plot_binned_histogram(df['age'], df['car_amount'], 'Age', 'Mean Car Purchase Amount', 'Binned Histogram: Age vs Car Purchase Amount')\n",
    "plot_binned_histogram(df['sal'], df['car_amount'], 'Annual Salary', 'Mean Car Purchase Amount', 'Binned Histogram: Annual Salary vs Car Purchase Amount')\n",
    "plot_binned_histogram(df['net_worth'], df['car_amount'], 'Net Worth', 'Mean Car Purchase Amount', 'Binned Histogram: Net Worth vs Car Purchase Amount')\n"
   ]
  },
  {
   "cell_type": "code",
   "execution_count": 133,
   "id": "5407de8a-32c8-4a65-becc-61a72da89197",
   "metadata": {},
   "outputs": [
    {
     "name": "stdout",
     "output_type": "stream",
     "text": [
      "Training Accuracy (R-squared): 0.9999999811846746\n"
     ]
    }
   ],
   "source": [
    "from sklearn.model_selection import train_test_split  \n",
    "from sklearn.linear_model import LinearRegression  \n",
    "from sklearn.metrics import r2_score  \n",
    "from sklearn.preprocessing import StandardScaler  \n",
    "\n",
    "selected_features = data[['age', 'sal', 'net_worth']] \n",
    "target = data['car_amount']  # The Y\n",
    "\n",
    "scaler = StandardScaler()  # Standardizing features\n",
    "X_scaled = scaler.fit_transform(selected_features)  # Transforming features to the same scale\n",
    "\n",
    "X_train, X_test, y_train, y_test = train_test_split(X_scaled, target, test_size=0.2, random_state=42)  \n",
    "\n",
    "model = LinearRegression()  #Kinda the assignment\n",
    "model.fit(X_train, y_train)  # Training the model\n",
    "\n",
    "y_train_pred = model.predict(X_train)  # Predicting on training data\n",
    "\n",
    "accuracy = r2_score(y_train, y_train_pred)  # Evaluating model performance\n",
    "\n",
    "print(f'Training Accuracy (R-squared): {accuracy:}')  \n"
   ]
  },
  {
   "cell_type": "code",
   "execution_count": 174,
   "id": "918a7b57-c8fd-45a3-a80d-f7910bc16e2f",
   "metadata": {},
   "outputs": [
    {
     "name": "stdout",
     "output_type": "stream",
     "text": [
      "Training Accuracy (R-squared): 0.999999956581842\n"
     ]
    }
   ],
   "source": [
    "from sklearn.model_selection import train_test_split  \n",
    "from sklearn.linear_model import Lasso  # Importing Lasso for regularized regression\n",
    "from sklearn.metrics import r2_score  \n",
    "from sklearn.preprocessing import StandardScaler  \n",
    "\n",
    "selected_features = data[['age', 'sal', 'net_worth']] \n",
    "target = data['car_amount']  # The target variable\n",
    "\n",
    "# Standardizing features\n",
    "scaler = StandardScaler()\n",
    "X_scaled = scaler.fit_transform(selected_features)  # Scaling features to mean 0 and variance 1\n",
    "\n",
    "X_train, X_test, y_train, y_test = train_test_split(X_scaled, target, test_size=0.2, random_state=42)\n",
    "\n",
    "# Create and train the Lasso model\n",
    "lasso_model = Lasso(alpha=1.0)  # Lasso with regularization parameter alpha wolf\n",
    "lasso_model.fit(X_train, y_train)  \n",
    "\n",
    "y_train_pred = lasso_model.predict(X_train)  \n",
    "y_test_pred = lasso_model.predict(X_test) \n",
    "\n",
    "# Calculate performance metrics\n",
    "train_accuracy = r2_score(y_train, y_train_pred)  \n",
    "test_accuracy = r2_score(y_test, y_test_pred)  \n",
    "\n",
    "# Output the results\n",
    "print(f'Training Accuracy (R-squared): {train_accuracy:.4f}')\n",
    "print(f'Test Accuracy (R-squared): {test_accuracy:.4f}')\n",
    "print(f'Coefficients: {lasso_model.coef_}')\n",
    "print(f'Intercept: {lasso_model.intercept_}')\n"
   ]
  },
  {
   "cell_type": "code",
   "execution_count": 180,
   "id": "90332239-f997-4fe3-9021-a90984e0c5ae",
   "metadata": {},
   "outputs": [
    {
     "name": "stdout",
     "output_type": "stream",
     "text": [
      "Best Alpha: 0.01\n",
      "Training Accuracy (R-squared): 0.9999999811822724\n",
      "Test Accuracy (R-squared): 0.9999999810408988\n",
      "Coefficients: [6707.97862601 6574.61223038 5024.66205242]\n",
      "Intercept: 44209.81860403991\n"
     ]
    }
   ],
   "source": [
    "from sklearn.model_selection import train_test_split, GridSearchCV\n",
    "from sklearn.linear_model import Lasso\n",
    "from sklearn.preprocessing import StandardScaler\n",
    "from sklearn.metrics import r2_score\n",
    "param_grid = {\n",
    "    'alpha': [0.01, 0.1, 1, 10, 100]  \n",
    "}\n",
    "\n",
    "# Create the Lasso model\n",
    "lasso = Lasso()\n",
    "\n",
    "# Perform Grid Search\n",
    "grid_search = GridSearchCV(estimator=lasso, param_grid=param_grid, scoring='r2', cv=5)\n",
    "grid_search.fit(X_train, y_train)\n",
    "\n",
    "# Get the best model and parameters\n",
    "best_lasso = grid_search.best_estimator_\n",
    "best_alpha = grid_search.best_params_['alpha']\n",
    "\n",
    "# Make predictions with the best model\n",
    "y_train_pred = best_lasso.predict(X_train)\n",
    "y_test_pred = best_lasso.predict(X_test)\n",
    "\n",
    "# Evaluate performance\n",
    "train_accuracy = r2_score(y_train, y_train_pred)\n",
    "test_accuracy = r2_score(y_test, y_test_pred)\n",
    "\n",
    "# Output results\n",
    "print(f'Best Alpha: {best_alpha}')\n",
    "print(f'Training Accuracy (R-squared): {train_accuracy:}')\n",
    "print(f'Test Accuracy (R-squared): {test_accuracy:}')\n",
    "print(f'Coefficients: {best_lasso.coef_}')\n",
    "print(f'Intercept: {best_lasso.intercept_}')"
   ]
  },
  {
   "cell_type": "code",
   "execution_count": 134,
   "id": "39c89ef5-5106-4b09-badd-10ea0b483d55",
   "metadata": {},
   "outputs": [
    {
     "data": {
      "text/plain": [
       "array([[-0.55074911,  0.05857619, -1.11046945],\n",
       "       [-0.67383422,  0.38657041,  0.57392937],\n",
       "       [-0.38750768, -0.71236095,  1.19397625],\n",
       "       ...,\n",
       "       [ 0.96624515,  0.57832106,  1.92114437],\n",
       "       [ 1.62075409, -1.05333541, -0.54019026],\n",
       "       [ 0.06140832, -0.06470949,  0.18153098]])"
      ]
     },
     "execution_count": 134,
     "metadata": {},
     "output_type": "execute_result"
    }
   ],
   "source": [
    "X_scaled"
   ]
  },
  {
   "cell_type": "code",
   "execution_count": 136,
   "id": "c2baf063-a33c-4f4f-b090-ed44d0e4bf74",
   "metadata": {},
   "outputs": [
    {
     "name": "stdout",
     "output_type": "stream",
     "text": [
      "Test Accuracy (R-squared): 0.9999999810273109\n"
     ]
    }
   ],
   "source": [
    "y_test_pred = model.predict(X_test)\n",
    "\n",
    "test_accuracy = r2_score(y_test, y_test_pred)\n",
    "print(f'Test Accuracy (R-squared): {test_accuracy:}')"
   ]
  },
  {
   "cell_type": "code",
   "execution_count": 137,
   "id": "7355bbe1-b16b-41df-a8e1-fd5e9a9d8b33",
   "metadata": {},
   "outputs": [
    {
     "name": "stdout",
     "output_type": "stream",
     "text": [
      "Cross-Validation R-squared Scores: [0.99999998 0.99999998 0.99999998 0.99999998 0.99999999]\n",
      "Average Cross-Validation R-squared: 0.9999999803808801\n"
     ]
    }
   ],
   "source": [
    "from sklearn.model_selection import cross_val_score  \n",
    "cv_scores = cross_val_score(model, X_scaled, target, cv=5, scoring='r2')  # how did I get 99.9, did I mess up\n",
    "print(f'Cross-Validation R-squared Scores: {cv_scores}')  \n",
    "print(f'Average Cross-Validation R-squared: {cv_scores.mean()}')  \n"
   ]
  },
  {
   "cell_type": "code",
   "execution_count": 138,
   "id": "2dba0fdb-05fe-4fec-b3f1-b435a6bba6ad",
   "metadata": {},
   "outputs": [
    {
     "name": "stdout",
     "output_type": "stream",
     "text": [
      "No data leakage. Looks like you didn’t royally mess up.\n"
     ]
    }
   ],
   "source": [
    "\n",
    "\n",
    "train_indices = X_train.index  # Collecting train data indices, because we’re organized\n",
    "test_indices = X_test.index  # Collecting test data indices, to check we didn’t mess up\n",
    "\n",
    "overlap = set(train_indices).intersection(test_indices)\n",
    "if overlap:\n",
    "    print(f\"data leakage detectedOverlapping indices: {overlap}\")  # If there’s overlap, we’ve got a problem\n",
    "else:\n",
    "    print(\"No data leakage. Looks like you didn’t royally mess up.\")  # If all’s good, you’re in the clear\n"
   ]
  },
  {
   "cell_type": "code",
   "execution_count": 182,
   "id": "944a2241-9813-401a-940c-51ed7481d9b1",
   "metadata": {},
   "outputs": [
    {
     "name": "stdout",
     "output_type": "stream",
     "text": [
      "Training Accuracy (R-squared): 0.9999999811822724\n",
      "Test Accuracy (R-squared): 0.9999999810408988\n"
     ]
    }
   ],
   "source": [
    "\n",
    "train_accuracy = r2_score(y_train, y_train_pred)\n",
    "test_accuracy = r2_score(y_test, y_test_pred)\n",
    "\n",
    "print(f'Training Accuracy (R-squared): {train_accuracy:}')\n",
    "print(f'Test Accuracy (R-squared): {test_accuracy:}')"
   ]
  },
  {
   "cell_type": "code",
   "execution_count": 140,
   "id": "ab765c13-2b2f-4467-893c-379bf9035126",
   "metadata": {},
   "outputs": [
    {
     "name": "stdout",
     "output_type": "stream",
     "text": [
      "Cross-Validation R-squared Scores: [0.99999998 0.99999998 0.99999999 0.99999998 0.99999997]\n",
      "Average Cross-Validation R-squared: 0.9999999802755418\n"
     ]
    }
   ],
   "source": [
    "# Run it back, because there's no way 99.9% accuracy is actually right\n",
    "from sklearn.model_selection import KFold, cross_val_score  # Importing tools to double-check if we’re dreaming\n",
    "\n",
    "kf = KFold(n_splits=5, shuffle=True, random_state=42)  # Setting up cross-validation, because one split just isn’t enough\n",
    "\n",
    "cv_scores = cross_val_score(model, X_scaled, target, cv=kf, scoring='r2')  \n",
    "\n",
    "print(f'Cross-Validation R-squared Scores: {cv_scores}')  \n",
    "print(f'Average Cross-Validation R-squared: {cv_scores.mean()}')  # Averaging the model’s attempts to prove it’s not a fluke\n"
   ]
  },
  {
   "cell_type": "code",
   "execution_count": 188,
   "id": "1ec7175b-73e6-46af-ba33-e7b002e85eb2",
   "metadata": {},
   "outputs": [
    {
     "name": "stdout",
     "output_type": "stream",
     "text": [
      "Best Alpha: 0.01\n",
      "Cross-Validation R-squared Scores: [0.99999998 0.99999998 0.99999999 0.99999998 0.99999997]\n",
      "Average Cross-Validation R-squared: 0.9999999802733779\n"
     ]
    }
   ],
   "source": [
    "kf = KFold(n_splits=5, shuffle=True, random_state=42)\n",
    "grid_search = GridSearchCV(estimator=lasso, param_grid=param_grid, scoring='r2', cv=kf)\n",
    "\n",
    "grid_search.fit(X_scaled, target)\n",
    "\n",
    "best_lasso = grid_search.best_estimator_\n",
    "best_alpha = grid_search.best_params_['alpha']\n",
    "\n",
    "cv_scores = cross_val_score(best_lasso, X_scaled, target, cv=kf, scoring='r2')\n",
    "\n",
    "print(f'Best Alpha: {best_alpha}')\n",
    "print(f'Cross-Validation R-squared Scores: {cv_scores}')\n",
    "print(f'Average Cross-Validation R-squared: {cv_scores.mean()}')"
   ]
  },
  {
   "cell_type": "code",
   "execution_count": null,
   "id": "ce1ba3e4-6cda-4489-a40c-a97a9191473c",
   "metadata": {},
   "outputs": [],
   "source": []
  },
  {
   "cell_type": "code",
   "execution_count": null,
   "id": "75c46593-fb06-4adb-b908-8f8c22d72c42",
   "metadata": {},
   "outputs": [],
   "source": []
  }
 ],
 "metadata": {
  "kernelspec": {
   "display_name": "Python 3 (ipykernel)",
   "language": "python",
   "name": "python3"
  },
  "language_info": {
   "codemirror_mode": {
    "name": "ipython",
    "version": 3
   },
   "file_extension": ".py",
   "mimetype": "text/x-python",
   "name": "python",
   "nbconvert_exporter": "python",
   "pygments_lexer": "ipython3",
   "version": "3.12.4"
  }
 },
 "nbformat": 4,
 "nbformat_minor": 5
}
